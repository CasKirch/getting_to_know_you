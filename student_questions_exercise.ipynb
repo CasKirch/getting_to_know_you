{
 "cells": [
  {
   "cell_type": "code",
   "execution_count": 2,
   "metadata": {
    "colab": {
     "base_uri": "https://localhost:8080/"
    },
    "id": "LXPSFIxnYR9c",
    "outputId": "cdcf372c-3015-4c41-aea6-7fdfb80a7ba4"
   },
   "outputs": [
    {
     "name": "stdout",
     "output_type": "stream",
     "text": [
      "Hello this is Casper\n"
     ]
    }
   ],
   "source": [
    "print('Hello this is Casper')"
   ]
  },
  {
   "cell_type": "code",
   "execution_count": 3,
   "metadata": {
    "colab": {
     "base_uri": "https://localhost:8080/"
    },
    "id": "K1Lfj2qitak1",
    "outputId": "b7da46bf-ae23-482a-9b99-9517ceb0c2b5"
   },
   "outputs": [
    {
     "name": "stdout",
     "output_type": "stream",
     "text": [
      "How many people are in your group?\n",
      "1\n"
     ]
    }
   ],
   "source": [
    "print('How many people are in your group?')\n",
    "team=input()"
   ]
  },
  {
   "cell_type": "code",
   "execution_count": 4,
   "metadata": {
    "colab": {
     "base_uri": "https://localhost:8080/"
    },
    "id": "UnboWBTeZIm4",
    "outputId": "434edfcf-a98c-4abc-c8b3-b0dc765caa8a"
   },
   "outputs": [
    {
     "name": "stdout",
     "output_type": "stream",
     "text": [
      "What's your name? cas\n",
      "Why did you join the program? because\n",
      "hello,casit's nice to meet you virtually. It's interesting that you want because., me too\n"
     ]
    }
   ],
   "source": [
    "for member in range(int(team)):\n",
    "  student = input('What\\'s your name? ')\n",
    "  question1 = input('Why did you join the program? ') #Ask question 1 and store response as question1\n",
    "\n",
    "  # Put the questions and answers together in a message\n",
    "  print(f'hello, {student} it\\'s nice to meet you virtually. It\\'s interesting that you want {question1}. Me too')"
   ]
  },
  {
   "cell_type": "code",
   "execution_count": null,
   "metadata": {
    "id": "i-YcOVyccXXs"
   },
   "outputs": [],
   "source": []
  }
 ],
 "metadata": {
  "colab": {
   "collapsed_sections": [],
   "name": "student_questions_exercise.ipynb",
   "provenance": []
  },
  "kernelspec": {
   "display_name": "Python 3",
   "language": "python",
   "name": "python3"
  },
  "language_info": {
   "codemirror_mode": {
    "name": "ipython",
    "version": 3
   },
   "file_extension": ".py",
   "mimetype": "text/x-python",
   "name": "python",
   "nbconvert_exporter": "python",
   "pygments_lexer": "ipython3",
   "version": "3.8.8"
  }
 },
 "nbformat": 4,
 "nbformat_minor": 1
}
